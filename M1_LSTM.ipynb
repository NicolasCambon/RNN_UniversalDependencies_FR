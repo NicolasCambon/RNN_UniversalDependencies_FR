{
  "nbformat": 4,
  "nbformat_minor": 0,
  "metadata": {
    "colab": {
      "name": "M1_LSTM.ipynb",
      "version": "0.3.2",
      "provenance": [],
      "collapsed_sections": []
    },
    "kernelspec": {
      "name": "python3",
      "display_name": "Python 3"
    }
  },
  "cells": [
    {
      "cell_type": "code",
      "metadata": {
        "id": "Rc7DMjd1uPpB",
        "colab_type": "code",
        "colab": {
          "base_uri": "https://localhost:8080/",
          "height": 127
        },
        "outputId": "2c1fd502-b0ea-4a30-ac4b-e2ae300e95cf"
      },
      "source": [
        "!git clone https://github.com/NicolasCambon/RNN_UniversalDependencies_FR.git #Téléchargment des données"
      ],
      "execution_count": 23,
      "outputs": [
        {
          "output_type": "stream",
          "text": [
            "Cloning into 'RNN_UniversalDependencies_FR'...\n",
            "remote: Enumerating objects: 31, done.\u001b[K\n",
            "remote: Counting objects:   3% (1/31)   \u001b[K\rremote: Counting objects:   6% (2/31)   \u001b[K\rremote: Counting objects:   9% (3/31)   \u001b[K\rremote: Counting objects:  12% (4/31)   \u001b[K\rremote: Counting objects:  16% (5/31)   \u001b[K\rremote: Counting objects:  19% (6/31)   \u001b[K\rremote: Counting objects:  22% (7/31)   \u001b[K\rremote: Counting objects:  25% (8/31)   \u001b[K\rremote: Counting objects:  29% (9/31)   \u001b[K\rremote: Counting objects:  32% (10/31)   \u001b[K\rremote: Counting objects:  35% (11/31)   \u001b[K\rremote: Counting objects:  38% (12/31)   \u001b[K\rremote: Counting objects:  41% (13/31)   \u001b[K\rremote: Counting objects:  45% (14/31)   \u001b[K\rremote: Counting objects:  48% (15/31)   \u001b[K\rremote: Counting objects:  51% (16/31)   \u001b[K\rremote: Counting objects:  54% (17/31)   \u001b[K\rremote: Counting objects:  58% (18/31)   \u001b[K\rremote: Counting objects:  61% (19/31)   \u001b[K\rremote: Counting objects:  64% (20/31)   \u001b[K\rremote: Counting objects:  67% (21/31)   \u001b[K\rremote: Counting objects:  70% (22/31)   \u001b[K\rremote: Counting objects:  74% (23/31)   \u001b[K\rremote: Counting objects:  77% (24/31)   \u001b[K\rremote: Counting objects:  80% (25/31)   \u001b[K\rremote: Counting objects:  83% (26/31)   \u001b[K\rremote: Counting objects:  87% (27/31)   \u001b[K\rremote: Counting objects:  90% (28/31)   \u001b[K\rremote: Counting objects:  93% (29/31)   \u001b[K\rremote: Counting objects:  96% (30/31)   \u001b[K\rremote: Counting objects: 100% (31/31)   \u001b[K\rremote: Counting objects: 100% (31/31), done.\u001b[K\n",
            "remote: Compressing objects: 100% (23/23), done.\u001b[K\n",
            "remote: Total 31 (delta 2), reused 0 (delta 0), pack-reused 0\u001b[K\n",
            "Unpacking objects: 100% (31/31), done.\n"
          ],
          "name": "stdout"
        }
      ]
    },
    {
      "cell_type": "code",
      "metadata": {
        "id": "QLxHtEhK81l9",
        "colab_type": "code",
        "colab": {}
      },
      "source": [
        "import numpy as np\n",
        "\n",
        "fichier = open('RNN_UniversalDependencies_FR/Donnees/fr_sequoia-ud-dev.conllu.txt',\"r\")\n",
        "\n",
        "liste=[]\n",
        "for ligne in fichier :  \n",
        "  ligne = ligne.strip('\\n\\r') \n",
        "  seq = [x for x in ligne.split()]  \n",
        "  liste.append(seq)  \n",
        "fichier.close()"
      ],
      "execution_count": 0,
      "outputs": []
    },
    {
      "cell_type": "code",
      "metadata": {
        "id": "5NiFTb58tA58",
        "colab_type": "code",
        "colab": {}
      },
      "source": [
        "sentence = []\n",
        "part=[]\n",
        "for l in range (len(liste)-1):\n",
        "  if len(liste[l])!= 0:\n",
        "    part.append(liste[l])\n",
        "  else:\n",
        "    sentence.append(part)\n",
        "    part=[]\n"
      ],
      "execution_count": 0,
      "outputs": []
    },
    {
      "cell_type": "code",
      "metadata": {
        "id": "nPCZIqYRsehJ",
        "colab_type": "code",
        "colab": {}
      },
      "source": [
        "POP=[]\n",
        "Out=[]\n",
        "\n",
        "\n",
        "for i in range(len(sentence)):  \n",
        "  pa=[]\n",
        "  no=[]\n",
        "  for e in range(2,len(sentence[i])):\n",
        "    flag=0\n",
        "    inf=''\n",
        "    if sentence[i][e][3] == \"AUX\":\n",
        "      if sentence[i][e][2] == \"avoir\":\n",
        "        inf+='_avoir'\n",
        "      else:\n",
        "        inf+='_etre'\n",
        "    for p in range(len(sentence[i][e][5])-4):\n",
        "      if sentence[i][e][5][p:p+4] == \"Sing\":\n",
        "        pa.append(sentence[i][e][3]+inf+\"_S\")\n",
        "        flag=1\n",
        "        break\n",
        "      elif sentence[i][e][5][p:p+4] == \"Plur\":\n",
        "        pa.append(sentence[i][e][3]+inf+\"_P\")\n",
        "        flag=1\n",
        "        break\n",
        "    if flag == 0:\n",
        "      pa.append(sentence[i][e][3])\n",
        "    no.append(\"1\")\n",
        "  \n",
        "  POP.append(pa)\n",
        "  Out.append(no)"
      ],
      "execution_count": 0,
      "outputs": []
    },
    {
      "cell_type": "code",
      "metadata": {
        "id": "1uX0wIn3diiL",
        "colab_type": "code",
        "colab": {
          "base_uri": "https://localhost:8080/",
          "height": 110
        },
        "outputId": "b69eaaf1-cd5e-42c0-f634-71c4be7a6d1b"
      },
      "source": [
        "print (POP[0])\n",
        "print (Out[0])\n",
        "print(len(POP))\n",
        "print(len(Out))"
      ],
      "execution_count": 64,
      "outputs": [
        {
          "output_type": "stream",
          "text": [
            "['DET_S', 'NOUN', 'AUX_avoir_S', 'VERB_S', 'DET_P', 'NOUN', 'CCONJ', 'ADP', 'DET_S', 'NOUN', 'ADP', 'DET', 'NOUN', 'PUNCT', 'VERB_S', 'DET_P', 'NOUN', 'ADP', 'DET_S', 'NOUN', 'ADP', 'PUNCT', 'NUM', 'NOUN', 'ADP', 'NOUN', 'ADJ', 'ADP', 'DET_S', 'NOUN', 'ADP', 'PROPN', 'PUNCT', 'PUNCT']\n",
            "['1', '1', '1', '1', '1', '1', '1', '1', '1', '1', '1', '1', '1', '1', '1', '1', '1', '1', '1', '1', '1', '1', '1', '1', '1', '1', '1', '1', '1', '1', '1', '1', '1', '1']\n",
            "411\n",
            "411\n"
          ],
          "name": "stdout"
        }
      ]
    }
  ]
}